{
 "cells": [
  {
   "cell_type": "code",
   "execution_count": 77,
   "id": "748a2007",
   "metadata": {},
   "outputs": [],
   "source": [
    "import heapq\n",
    "from IPython.display import clear_output\n",
    "import io\n",
    "import math\n"
   ]
  },
  {
   "cell_type": "markdown",
   "id": "d2753f1b",
   "metadata": {},
   "source": [
    "    Aplicamos la transformada de Burrows-Wheeler \n",
    "    "
   ]
  },
  {
   "cell_type": "code",
   "execution_count": 75,
   "id": "7c56dcef",
   "metadata": {
    "scrolled": true
   },
   "outputs": [
    {
     "name": "stdout",
     "output_type": "stream",
     "text": [
      "5\n",
      "0 : 522\n",
      "522 : 1044\n",
      "1044 : 1566\n",
      "1566 : 2088\n",
      "2088 : 2610\n",
      "Se guardo el archivo\n",
      "525\n",
      "2625\n",
      "tamaño de bloque:  522 \n",
      "indice 1:  103 \n",
      "Cantidad de bloques:  5.0 \n",
      "Tamaño del archivo:  2628\n"
     ]
    }
   ],
   "source": [
    "\n",
    "BYTESVENTANA = 3\n",
    "BLOCK_SIZE= 512\n",
    "\n",
    "def insert_shift(string):\n",
    "    string = bytearray(string)\n",
    "    ultimo_byte = string.pop()\n",
    "    string.insert(0, ultimo_byte)\n",
    "    return string\n",
    "\n",
    "\n",
    "\n",
    "def find_index(headquarter, string):\n",
    "    return headquarter.index(string)\n",
    "\n",
    "def obtain_bwt(headquarter):\n",
    "    return bytes(headquarter[-1])\n",
    "\n",
    "def sort_headquarters(headquarters):\n",
    "  heapq.heapify(headquarters)\n",
    "  return [heapq.heappop(headquarters) for _ in range(len(headquarters))]\n",
    "\n",
    "def bwt(string):\n",
    "    headquarter = list()\n",
    "    for i in range(len(string)):\n",
    "        string = insert_shift(string)\n",
    "        #clear_output(wait=True)\n",
    "        #print(string)\n",
    "        headquarter.append(string)\n",
    "        headquarter= sort_headquarters(headquarter)\n",
    "    return (obtain_bwt(headquarter), find_index(headquarter, string))\n",
    "\n",
    "def format_header_and_indexes(byte):\n",
    "    if(len(byte) < BYTESVENTANA):\n",
    "        byte_a_agregar=BYTESVENTANA-len(byte)\n",
    "        #print(\"resultado: \",byte,\"\\nCantidad de bytes\",len(byte))\n",
    "        resultado = bytes([0] * byte_a_agregar)+byte\n",
    "        #print(\"resultado: \",resultado,\"\\nCantidad de bytes\",len(resultado),\"\\nEn numero: \",int.from_bytes(resultado, \"big\"))\n",
    "        return resultado\n",
    "    elif( len(byte) > BYTESVENTANA):\n",
    "        print(\"tamaño de la ventana no admisible\")\n",
    "\n",
    "def save_header(bwt_data, filename):\n",
    "    with open(filename+\".bwt\",\"ab\") as file:\n",
    "        tamaniosegmento = len(bwt_data[0])\n",
    "        tamaniosegmentobytes = tamaniosegmento.to_bytes((tamaniosegmento.bit_length() + 7) // 8, \"big\")\n",
    "        #print(\"cabecera (tamaño del bloque): \",tamaniosegmentobytes,\"\\nEn numero: \",tamaniosegmento,\"\\nEn binario: \",bin(tamaniosegmento),\"\\ncantidad de bytes utilizados: \",(tamaniosegmento.bit_length() + 7) // 8)\n",
    "        file.write(format_header_and_indexes(tamaniosegmentobytes))\n",
    "def save_data(bwt_data, filename):\n",
    "    with open(filename+\".bwt\", \"ab\") as file:\n",
    "        #print(bwt_data)\n",
    "        indicebytes = int(bwt_data[1]).to_bytes((int(bwt_data[1]).bit_length() + 7) // 8, \"big\")\n",
    "        #print(\"indice: \", bwt_data[1],\"indice en bytes: \",(int(bwt_data[1]).bit_length() + 7) // 8)\n",
    "        file.write(format_header_and_indexes(indicebytes))\n",
    "        #print(\"\\nbloque: \",bytes(bwt_data[0]))\n",
    "        file.write(bytes(bwt_data[0]))\n",
    "        file.close()\n",
    "\n",
    "def encontrar_divisor(tamaño_archivo):\n",
    "  for i in range(BLOCK_SIZE, tamaño_archivo + 1):\n",
    "    if tamaño_archivo % i == 0:\n",
    "      #print(i)\n",
    "      return i\n",
    "  \n",
    "\n",
    "  return None\n",
    "\n",
    "def bwt_from_bytes(filename):\n",
    "    with open(filename, \"rb\") as f:\n",
    "        blocks = []\n",
    "        data = f.read()\n",
    "        divisor = encontrar_divisor(len(data))\n",
    "        print(int(len(data)/divisor))\n",
    "        for i in range(int(len(data)/divisor)):\n",
    "            print(i*divisor,\":\",(i+1)*divisor)\n",
    "            clean_data = data[i*divisor:(i+1)*divisor]\n",
    "            #print(clean_data[:20])\n",
    "            bwt_data = bwt(clean_data)\n",
    "            #print(bwt_data)\n",
    "            blocks.append(bwt_data)\n",
    "        save_header(bwt_data, filename)\n",
    "        for b in blocks:\n",
    "            save_data(b,filename)\n",
    "    print(\"Se guardo el archivo\")\n",
    "    return bwt_data\n",
    "def bwt_show(filename):\n",
    "    with open(filename,\"rb\") as f:\n",
    "        data = f.read()\n",
    "        tamañosegmento=int.from_bytes(data[:BYTESVENTANA], \"big\")\n",
    "        indices=int.from_bytes(data[BYTESVENTANA:BYTESVENTANA+BYTESVENTANA], \"big\")\n",
    "        bloques=((len(data)-BYTESVENTANA))/(BYTESVENTANA+tamañosegmento)\n",
    "        print((BYTESVENTANA+tamañosegmento))\n",
    "        print((len(data)-BYTESVENTANA))\n",
    "        print(\"tamaño de bloque: \",tamañosegmento,\"\\nindice 1: \",indices,\"\\nCantidad de bloques: \",bloques, \"\\nTamaño del archivo: \",len(data))\n",
    "        \n",
    "\n",
    "if __name__ == \"__main__\":\n",
    "    filename = \"../datos/archivo.txt\"\n",
    "    bwt_data = bwt_from_bytes(filename)\n",
    "    bwt_show(filename+\".bwt\")\n"
   ]
  },
  {
   "cell_type": "markdown",
   "id": "dec04b0d",
   "metadata": {},
   "source": [
    "Aplicamos la destransformada de Burrows-Wheeler"
   ]
  },
  {
   "cell_type": "code",
   "execution_count": 114,
   "id": "1e5f44c4",
   "metadata": {
    "scrolled": false
   },
   "outputs": [
    {
     "ename": "IndexError",
     "evalue": "list index out of range",
     "output_type": "error",
     "traceback": [
      "\u001b[1;31m---------------------------------------------------------------------------\u001b[0m",
      "\u001b[1;31mIndexError\u001b[0m                                Traceback (most recent call last)",
      "Cell \u001b[1;32mIn[114], line 90\u001b[0m\n\u001b[0;32m     87\u001b[0m   revert_bwt(filename)\n\u001b[0;32m     89\u001b[0m \u001b[38;5;28;01mif\u001b[39;00m \u001b[38;5;18m__name__\u001b[39m \u001b[38;5;241m==\u001b[39m \u001b[38;5;124m\"\u001b[39m\u001b[38;5;124m__main__\u001b[39m\u001b[38;5;124m\"\u001b[39m:\n\u001b[1;32m---> 90\u001b[0m   main()\n",
      "Cell \u001b[1;32mIn[114], line 87\u001b[0m, in \u001b[0;36mmain\u001b[1;34m()\u001b[0m\n\u001b[0;32m     85\u001b[0m \u001b[38;5;28;01mdef\u001b[39;00m \u001b[38;5;21mmain\u001b[39m():\n\u001b[0;32m     86\u001b[0m   filename \u001b[38;5;241m=\u001b[39m \u001b[38;5;124m\"\u001b[39m\u001b[38;5;124m../datos/archivo.txt.bwt\u001b[39m\u001b[38;5;124m\"\u001b[39m\n\u001b[1;32m---> 87\u001b[0m   revert_bwt(filename)\n",
      "Cell \u001b[1;32mIn[114], line 55\u001b[0m, in \u001b[0;36mrevert_bwt\u001b[1;34m(filename)\u001b[0m\n\u001b[0;32m     53\u001b[0m decompressor \u001b[38;5;241m=\u001b[39m BWTDecompressor()\n\u001b[0;32m     54\u001b[0m \u001b[38;5;28;01mfor\u001b[39;00m block \u001b[38;5;129;01min\u001b[39;00m blocks:\n\u001b[1;32m---> 55\u001b[0m     decompressor\u001b[38;5;241m.\u001b[39mreverse_bwt(block)\n\u001b[0;32m     56\u001b[0m     decompressor\u001b[38;5;241m.\u001b[39msave_file(filename)\n\u001b[0;32m     58\u001b[0m \u001b[38;5;28;01mreturn\u001b[39;00m output\n",
      "Cell \u001b[1;32mIn[114], line 74\u001b[0m, in \u001b[0;36mBWTDecompressor.reverse_bwt\u001b[1;34m(self, block)\u001b[0m\n\u001b[0;32m     72\u001b[0m bloque \u001b[38;5;241m=\u001b[39m block[\u001b[38;5;241m0\u001b[39m]\n\u001b[0;32m     73\u001b[0m \u001b[38;5;28;01mfor\u001b[39;00m i \u001b[38;5;129;01min\u001b[39;00m \u001b[38;5;28mrange\u001b[39m(\u001b[38;5;28mlen\u001b[39m(bloque)):\n\u001b[1;32m---> 74\u001b[0m     bloque \u001b[38;5;241m=\u001b[39m \u001b[38;5;28mself\u001b[39m\u001b[38;5;241m.\u001b[39minsert_byte(bloque)\n\u001b[0;32m     75\u001b[0m     \u001b[38;5;28mself\u001b[39m\u001b[38;5;241m.\u001b[39mheadquarter\u001b[38;5;241m.\u001b[39mappend(bloque)\n\u001b[0;32m     76\u001b[0m     \u001b[38;5;28mself\u001b[39m\u001b[38;5;241m.\u001b[39msort_headquarters()\n",
      "Cell \u001b[1;32mIn[114], line 65\u001b[0m, in \u001b[0;36mBWTDecompressor.insert_byte\u001b[1;34m(self, string)\u001b[0m\n\u001b[0;32m     64\u001b[0m \u001b[38;5;28;01mdef\u001b[39;00m \u001b[38;5;21minsert_byte\u001b[39m(\u001b[38;5;28mself\u001b[39m, string):\n\u001b[1;32m---> 65\u001b[0m   \u001b[38;5;28;01mreturn\u001b[39;00m [string[i] \u001b[38;5;241m+\u001b[39m \u001b[38;5;28mself\u001b[39m\u001b[38;5;241m.\u001b[39mheadquarter[i] \u001b[38;5;28;01mfor\u001b[39;00m i \u001b[38;5;129;01min\u001b[39;00m \u001b[38;5;28mrange\u001b[39m(\u001b[38;5;28mlen\u001b[39m(\u001b[38;5;28mself\u001b[39m\u001b[38;5;241m.\u001b[39mheadquarter))]\n",
      "Cell \u001b[1;32mIn[114], line 65\u001b[0m, in \u001b[0;36m<listcomp>\u001b[1;34m(.0)\u001b[0m\n\u001b[0;32m     64\u001b[0m \u001b[38;5;28;01mdef\u001b[39;00m \u001b[38;5;21minsert_byte\u001b[39m(\u001b[38;5;28mself\u001b[39m, string):\n\u001b[1;32m---> 65\u001b[0m   \u001b[38;5;28;01mreturn\u001b[39;00m [string[i] \u001b[38;5;241m+\u001b[39m \u001b[38;5;28mself\u001b[39m\u001b[38;5;241m.\u001b[39mheadquarter[i] \u001b[38;5;28;01mfor\u001b[39;00m i \u001b[38;5;129;01min\u001b[39;00m \u001b[38;5;28mrange\u001b[39m(\u001b[38;5;28mlen\u001b[39m(\u001b[38;5;28mself\u001b[39m\u001b[38;5;241m.\u001b[39mheadquarter))]\n",
      "\u001b[1;31mIndexError\u001b[0m: list index out of range"
     ]
    }
   ],
   "source": [
    "def insert_byte(headquarters, string):\n",
    "  return [string[i] + headquarters[i] for i in range(len(headquarters))]\n",
    "\n",
    "def sort_headquarters(headquarters):\n",
    "  heapq.heapify(headquarters)\n",
    "  return headquarters\n",
    "\n",
    "def reverse_bwt(block):\n",
    "    headquarter = list()\n",
    "    bloque = block[0]\n",
    "    for i in range(len(bloque)):\n",
    "        bloque = insert_byte(headquarter,bloque)\n",
    "        headquarter.append(bloque)\n",
    "        headquarter = sort_headquarters(headquarter)\n",
    "    return headquarter[block[1]]\n",
    "\n",
    "def save_file(reverse_file, filename):\n",
    "    with open(filename, \"wb\") as file:\n",
    "        file.write(reverse_file)\n",
    "    file.close()\n",
    "\n",
    "def get_blocks(data,segment_size):\n",
    "    bloques=int(((len(data)))/(BYTESVENTANA+segment_size))\n",
    "    blocks=[]\n",
    "    for i in range(bloques):\n",
    "        index=int.from_bytes(data[:BYTESVENTANA], \"big\")\n",
    "        block=data[BYTESVENTANA:BYTESVENTANA+segment_size]\n",
    "        bloque_tupla = (block,index)\n",
    "        blocks.append(bloque_tupla)\n",
    "    return blocks\n",
    "\n",
    "def revert_bwt(filename):\n",
    "    with open(filename, \"rb\") as f:\n",
    "        data = f.read()\n",
    "        segment_size=int.from_bytes(data[:BYTESVENTANA], \"big\")\n",
    "        blocks= get_blocks(data[BYTESVENTANA:],segment_size)\n",
    "\n",
    "        decompressor = BWTDecompressor()\n",
    "        for block in blocks:\n",
    "            decompressor.reverse_bwt(block)\n",
    "            decompressor.save_file(filename)\n",
    "\n",
    "        return output\n",
    "# Invertimos la cadena de texto.\n",
    "filename = \"../datos/archivo.txt.bwt\"\n",
    "revert_bwt(filename)"
   ]
  },
  {
   "cell_type": "code",
   "execution_count": 76,
   "id": "66dc9d15",
   "metadata": {},
   "outputs": [
    {
     "name": "stdout",
     "output_type": "stream",
     "text": [
      "3\n"
     ]
    }
   ],
   "source": [
    "print(BYTESVENTANA)"
   ]
  }
 ],
 "metadata": {
  "kernelspec": {
   "display_name": "Python 3 (ipykernel)",
   "language": "python",
   "name": "python3"
  },
  "language_info": {
   "codemirror_mode": {
    "name": "ipython",
    "version": 3
   },
   "file_extension": ".py",
   "mimetype": "text/x-python",
   "name": "python",
   "nbconvert_exporter": "python",
   "pygments_lexer": "ipython3",
   "version": "3.11.5"
  }
 },
 "nbformat": 4,
 "nbformat_minor": 5
}
