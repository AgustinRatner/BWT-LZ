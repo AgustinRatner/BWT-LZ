{
 "cells": [
  {
   "cell_type": "markdown",
   "id": "d2753f1b",
   "metadata": {},
   "source": [
    "    Aplicamos la transformada de Burrows-Wheeler \n",
    "    "
   ]
  },
  {
   "cell_type": "code",
   "execution_count": 76,
   "id": "7c56dcef",
   "metadata": {},
   "outputs": [
    {
     "name": "stdout",
     "output_type": "stream",
     "text": [
      "b'\\x12Exif\\x00\\x00MM\\x00*\\x00\\x00\\x00\\x08\\x00\\x0c\\x01\\x00\\x00\\x03\\x00\\x00\\x00\\x01\\x17p\\x00\\x00\\x01\\x01\\x00\\x03\\x00\\x00\\x00\\x01\\r/\\x00\\x00\\x01\\x02\\x00\\x03\\x00\\x00\\x00\\x03\\x00\\x00\\x00\\x01\\x06\\x00\\x03\\x00\\x00\\x00\\x01\\x00\\x02\\x00\\x00\\x01\\x12\\x00\\x03\\x00\\x00\\x00\\x01\\x00\\x01\\x00\\x00\\x01\\x15\\x00\\x03\\x00\\x00\\x00\\x01\\x00\\x03\\x00\\x00\\x01\\x1a\\x00\\x05\\x00\\x00\\x00\\x01\\x00\\x00\\x00\\x01\\x1b\\x00\\x05\\x00\\x00\\x00\\x01\\x00\\x00\\x00\\x01(\\x00\\x03\\x00\\x00\\x00\\x01\\x00\\x02'\n",
      "indice: 105\n",
      "('\\x05\\x05\\x03\\x03\\x03\\x03\\x03\\x03\\x03\\x01\\x01\\x03*\\x00\\x00\\x00\\x00\\x00\\x00p/\\x00\\x00\\x02\\x01\\x00\\x03\\x00\\x00\\x00\\x01\\x00f\\x00\\x00\\x01\\x00\\x00\\x00\\x00\\x00\\x00\\x00\\x00\\x00\\x00\\x00\\x00\\x00\\x00\\x01\\x01\\x12\\x06(\\x15\\x00\\x01\\x00\\x02\\x01\\x1a\\x1b\\x00\\x08M\\x00\\x00\\x00\\x00\\x0c\\x00\\x00\\x00\\x01\\x00\\x00\\x00\\x00\\x00\\x00\\x00\\x00\\x00\\x00\\x00\\x00\\x01\\x00\\x00\\x00\\x00\\x00\\x00\\x00\\x00\\x00\\x00\\x00\\x00\\x01\\x00\\x00\\x01\\x01\\x02\\x01\\x01\\x01\\x01\\x01\\x00\\r\\x12M\\x00ix\\x17E', 105)\n"
     ]
    }
   ],
   "source": [
    "import io\n",
    "import codecs\n",
    "\n",
    "def insert_shift(string):\n",
    "    auxlist = list(string)\n",
    "    auxlist.insert(0, auxlist.pop())\n",
    "    return \"\".join(auxlist)\n",
    "\n",
    "def find_index(headquarter, string):\n",
    "    try:\n",
    "        print(\"indice: \"+str(headquarter.index(string)))\n",
    "        return headquarter.index(string)\n",
    "    except ValueError:\n",
    "        return -1\n",
    "\n",
    "\n",
    "def obtain_bwt(headquarter):\n",
    "    return \"\".join(string[-1] for string in headquarter)\n",
    "\n",
    "def bwt(string):\n",
    "    headquarter = list()\n",
    "    aux=string\n",
    "    for i in range(len(string)):\n",
    "        headquarter.append(insert_shift(aux))\n",
    "        aux = insert_shift(aux)\n",
    "    headquarter.sort()\n",
    "    output= (obtain_bwt(headquarter),find_index(headquarter,string))\n",
    "    return output\n",
    "\n",
    "def clean_text(bwt_text):\n",
    "    return bwt_text\n",
    "\n",
    "def bwt_from_bytes(filename):\n",
    "    with open(filename, \"rb\") as f:\n",
    "        data = f.read()\n",
    "        clean_data =clean_text(codecs.decode(data[0:128], errors='ignore'))\n",
    "        print(clean_data.encode('utf-8'))\n",
    "        bwt_data = bwt(clean_data)\n",
    "    return bwt_data\n",
    "\n",
    "\n",
    "if __name__ == \"__main__\":\n",
    "    filename = \"imagen.jpg\"\n",
    "    bwt_data = bwt_from_bytes(filename)\n",
    "    print(bwt_data)\n"
   ]
  },
  {
   "cell_type": "markdown",
   "id": "dec04b0d",
   "metadata": {},
   "source": [
    "Aplicamos la destransformada de Burrows-Wheeler"
   ]
  },
  {
   "cell_type": "code",
   "execution_count": 77,
   "id": "1e5f44c4",
   "metadata": {},
   "outputs": [
    {
     "name": "stdout",
     "output_type": "stream",
     "text": [
      "120\n",
      "b'\\x12Exif\\x00\\x00MM\\x00*\\x00\\x00\\x00\\x08\\x00\\x0c\\x01\\x00\\x00\\x03\\x00\\x00\\x00\\x01\\x17p\\x00\\x00\\x01\\x01\\x00\\x03\\x00\\x00\\x00\\x01\\r/\\x00\\x00\\x01\\x02\\x00\\x03\\x00\\x00\\x00\\x03\\x00\\x00\\x00\\x01\\x06\\x00\\x03\\x00\\x00\\x00\\x01\\x00\\x02\\x00\\x00\\x01\\x12\\x00\\x03\\x00\\x00\\x00\\x01\\x00\\x01\\x00\\x00\\x01\\x15\\x00\\x03\\x00\\x00\\x00\\x01\\x00\\x03\\x00\\x00\\x01\\x1a\\x00\\x05\\x00\\x00\\x00\\x01\\x00\\x00\\x00\\x01\\x1b\\x00\\x05\\x00\\x00\\x00\\x01\\x00\\x00\\x00\\x01(\\x00\\x03\\x00\\x00\\x00\\x01\\x00\\x02'\n"
     ]
    }
   ],
   "source": [
    "import codecs\n",
    "\n",
    "def insert_char(headquarters, string ):\n",
    "    \n",
    "    for i in range(len(headquarters)):\n",
    "        auxlist = list(headquarters[i])\n",
    "        auxlist.insert(0, string[i])\n",
    "        headquarters[i]= \"\".join(auxlist)\n",
    "    return headquarters\n",
    "def sort_headquarters(headquarters):\n",
    "    return sorted(headquarters)\n",
    "\n",
    "def reverse_bwt(bwt_text):\n",
    "    headquarters = list(bwt_text[0])\n",
    "    while(len(headquarters)!=len(headquarters[0])):\n",
    "        headquarters.sort()\n",
    "        insert_char(headquarters,bwt_text[0])\n",
    "    headquarters.sort()\n",
    "    for i in range(len(headquarters)):\n",
    "        if headquarters[i].startswith(\"las\"):\n",
    "            print(i)\n",
    "    output = headquarters[bwt_text[1]]\n",
    "    print(len(headquarters))\n",
    "    return output\n",
    "\n",
    "bwt_text = ('\\x05\\x05\\x03\\x03\\x03\\x03\\x03\\x03\\x03\\x01\\x01\\x03*\\x00\\x00\\x00\\x00\\x00\\x00p/\\x00\\x00\\x02\\x01\\x00\\x03\\x00\\x00\\x00\\x01\\x00f\\x00\\x00\\x01\\x00\\x00\\x00\\x00\\x00\\x00\\x00\\x00\\x00\\x00\\x00\\x00\\x00\\x00\\x01\\x01\\x12\\x06(\\x15\\x00\\x01\\x00\\x02\\x01\\x1a\\x1b\\x00\\x08M\\x00\\x00\\x00\\x00\\x0c\\x00\\x00\\x00\\x01\\x00\\x00\\x00\\x00\\x00\\x00\\x00\\x00\\x00\\x00\\x00\\x00\\x01\\x00\\x00\\x00\\x00\\x00\\x00\\x00\\x00\\x00\\x00\\x00\\x00\\x01\\x00\\x00\\x01\\x01\\x02\\x01\\x01\\x01\\x01\\x01\\x00\\r\\x12M\\x00ix\\x17E', 105)\n",
    "\n",
    "# Invertimos la cadena de texto.\n",
    "output = reverse_bwt(bwt_text)\n",
    "\n",
    "output = output.encode(\"utf-8\")\n",
    "\n",
    "print(output)"
   ]
  },
  {
   "cell_type": "code",
   "execution_count": null,
   "id": "66dc9d15",
   "metadata": {},
   "outputs": [],
   "source": []
  }
 ],
 "metadata": {
  "kernelspec": {
   "display_name": "Python 3 (ipykernel)",
   "language": "python",
   "name": "python3"
  },
  "language_info": {
   "codemirror_mode": {
    "name": "ipython",
    "version": 3
   },
   "file_extension": ".py",
   "mimetype": "text/x-python",
   "name": "python",
   "nbconvert_exporter": "python",
   "pygments_lexer": "ipython3",
   "version": "3.11.5"
  }
 },
 "nbformat": 4,
 "nbformat_minor": 5
}
